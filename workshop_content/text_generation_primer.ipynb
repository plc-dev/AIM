{
 "cells": [
  {
   "attachments": {},
   "cell_type": "markdown",
   "metadata": {},
   "source": [
    "# Generate text stories using \"large language models\" (LLMs)."
   ]
  },
  {
   "attachments": {},
   "cell_type": "markdown",
   "metadata": {},
   "source": [
    "## What is a large language model even and how does it work?\n",
    "\n",
    "![llm](../resources/img/autocomplete.jpg)"
   ]
  },
  {
   "attachments": {},
   "cell_type": "markdown",
   "metadata": {},
   "source": [
    "## What can it do?\n",
    "\n",
    "![llm](../resources/img/chatgpt_prompt.jpg)"
   ]
  },
  {
   "attachments": {},
   "cell_type": "markdown",
   "metadata": {},
   "source": [
    "## How do I use it?\n",
    "\n",
    "LLMs are able to generate texts based on a input called a \"**prompt**\". The prompt is a text string that the LLM uses to generate a continuation of the text. The prompt can be a single word, a sentence, or even a paragraph. The longer the prompt, the more context the LLM has to generate the text.\n",
    "\n",
    "```\n",
    "Prompt: I woke up this morning and\n",
    "```\n",
    "```\n",
    "Output: I woke up this morning and asked myself what I should do today.\n",
    "```\n",
    "\n",
    "You can give the LLM also a concrete instruction to follow. For example, you can tell the LLM to write a poem about a cat. The LLM will then generate a poem about a cat.\n",
    "\n",
    "```\n",
    "Prompt: Write a poem about a cat.\n",
    "```\n",
    "\n",
    "```\n",
    "Output: \n",
    "In a realm of whiskered grace,\n",
    "Where moonlight weaves its tender lace,\n",
    "There dwells a feline, sleek and sly,\n",
    "A creature with an enigmatic eye.\n",
    "\n",
    "With velvet paws and nimble feet,\n",
    "She prowls the night, a shadowy fleet,\n",
    "Her silhouette a dance of grace,\n",
    "As she roams through the moonlit space.\n",
    "\n",
    "Her coat, a tapestry of ebony night,\n",
    "Adorned with stars, a celestial sight,\n",
    "Eyes like emeralds, glowing bright,\n",
    "Reflecting secrets, hidden in plain sight.\n",
    "\n",
    "She moves with elegance, a silent stride,\n",
    "A mystic presence, impossible to hide,\n",
    "Leaping effortlessly, defying gravity's hold,\n",
    "As she chases dreams, untamed and bold.\n",
    "\n",
    "Oh, the tales she could tell,\n",
    "Of moonlit escapades, where shadows dwell,\n",
    "Of midnight hunts and whispered purrs,\n",
    "Of secret rendezvous and stolen errs.\n",
    "\n",
    "She basks in the warmth of sunlit beams,\n",
    "As her spirit dances, unbound by schemes,\n",
    "A creature wild, yet tenderly refined,\n",
    "A masterpiece of nature, beautifully designed.\n",
    "\n",
    "In her eyes, an ancient wisdom shines,\n",
    "A glimpse of worlds beyond our human confines,\n",
    "A muse to poets, an artist's muse,\n",
    "Her aura captivating, impossible to lose.\n",
    "\n",
    "So, raise a toast to this magical sprite,\n",
    "A regal creature, born of the night,\n",
    "For in her presence, we find solace and glee,\n",
    "The enchanting soul of a cat, forever free.\n",
    "```"
   ]
  },
  {
   "attachments": {},
   "cell_type": "markdown",
   "metadata": {},
   "source": [
    "## Try to be as concrete as possible and try to get a feeling on how to interact with the LLM.\n",
    "\n",
    "![communication](../resources/img/tire-swing-cartoon.jpg)"
   ]
  },
  {
   "attachments": {},
   "cell_type": "markdown",
   "metadata": {},
   "source": [
    "## Now it's your turn!"
   ]
  }
 ],
 "metadata": {
  "language_info": {
   "name": "python"
  },
  "orig_nbformat": 4
 },
 "nbformat": 4,
 "nbformat_minor": 2
}
