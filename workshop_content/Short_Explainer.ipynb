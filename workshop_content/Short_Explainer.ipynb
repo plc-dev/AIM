{
  "nbformat": 4,
  "nbformat_minor": 0,
  "metadata": {
    "colab": {
      "provenance": [],
      "toc_visible": true
    },
    "kernelspec": {
      "name": "python3",
      "display_name": "Python 3"
    },
    "language_info": {
      "name": "python"
    }
  },
  "cells": [
    {
      "cell_type": "markdown",
      "source": [
        "# **AIM** - Artificial Intelligence for Multimediageneration"
      ],
      "metadata": {
        "id": "hnvEMMDepsKr"
      }
    },
    {
      "cell_type": "markdown",
      "source": [
        "## Structure\n",
        "\n",
        "*   [Image generation](#scrollTo=luX-G7yTrm5o)\n",
        "*   [Music generation](#scrollTo=bjaIEb5nrp--)\n",
        "*   [Speech generation](#scrollTo=e11KoycDrkRc)"
      ],
      "metadata": {
        "id": "xUelRc0Pp0CF"
      }
    },
    {
      "cell_type": "markdown",
      "source": [
        "## Image generation"
      ],
      "metadata": {
        "id": "luX-G7yTrm5o"
      }
    },
    {
      "cell_type": "markdown",
      "source": [
        "### How does that work?\n",
        "\n"
      ],
      "metadata": {
        "id": "20dWEvhhGDG3"
      }
    },
    {
      "cell_type": "markdown",
      "source": [
        "<figure>\n",
        "<center>\n",
        "<img src='https://drive.google.com/uc?id=11GNk6PNwyK7kHuTtJb3d9-L6q39VatkB' />\n",
        "<figcaption>Childs book to learn the names of animals.</figcaption></center>\n",
        "</figure>\n",
        "\n",
        "AI models learn \"like childs\", to associate an image of animals or things in general with their name."
      ],
      "metadata": {
        "id": "s3i_T0l9FkmJ"
      }
    },
    {
      "cell_type": "markdown",
      "source": [
        "<figure>\n",
        "<center>\n",
        "<img src='https://drive.google.com/uc?id=1yH1-MkgGjzFqF3xiT8V_LONLtbz5r_pd' />\n",
        "<figcaption>Training process of image models.</figcaption></center>\n",
        "</figure>\n",
        "\n",
        "Arbitrary images are obfuscated and the model tries to \"guess\" what the original image looked like and reproduce it.\n",
        "Sometimes the model is given a hint about what was seen on the original image."
      ],
      "metadata": {
        "id": "PZBfMLa0GfWN"
      }
    },
    {
      "cell_type": "markdown",
      "source": [
        "[**Your turn!**](https://colab.research.google.com/drive/1ACHZvSvRZCsiy3Ga0nyTnrYQIQCcrsr7)"
      ],
      "metadata": {
        "id": "3T42rKLo6jFG"
      }
    },
    {
      "cell_type": "markdown",
      "source": [
        "## Music generation"
      ],
      "metadata": {
        "id": "bjaIEb5nrp--"
      }
    },
    {
      "cell_type": "markdown",
      "source": [
        "### How's that supposed to work?"
      ],
      "metadata": {
        "id": "o4GOgAWSL7ch"
      }
    },
    {
      "cell_type": "markdown",
      "source": [
        "<figure>\n",
        "<center>\n",
        "<img src='https://drive.google.com/uc?id=1NZ9m5UvVj3g7HOJKHAIBMwhHyAfvEmUm' />\n",
        "<figcaption>Spectrogram of an audio recording.</figcaption></center>\n",
        "</figure>\n",
        "\n",
        "This is how you can *see* audio!"
      ],
      "metadata": {
        "id": "4n-ai1mFMLgW"
      }
    },
    {
      "cell_type": "markdown",
      "source": [
        "<figure>\n",
        "<center>\n",
        "<img src='https://drive.google.com/uc?id=1aSWFh5g6XfzRQv1IorQn2Tz9qOAyFvOp' />\n",
        "<figcaption>Sounds of different instruments.</figcaption></center>\n",
        "</figure>\n",
        "\n",
        "This time, the model doesn't see images of arbitrary things, but instruments specifically and how they are called. This is done to align text prompts that include the name of instruments, to how the instrument usually sounds."
      ],
      "metadata": {
        "id": "J45LcgLFNGHf"
      }
    },
    {
      "cell_type": "markdown",
      "source": [
        "[**Your turn!**](https://colab.research.google.com/drive/1kQgR3Kh_ifnIONKWIi9KI5rTS0aX8CYV)"
      ],
      "metadata": {
        "id": "y_hUjnuE6lT_"
      }
    },
    {
      "cell_type": "markdown",
      "source": [
        "## Speech generation!"
      ],
      "metadata": {
        "id": "e11KoycDrkRc"
      }
    },
    {
      "cell_type": "markdown",
      "source": [
        "<figure>\n",
        "<center>\n",
        "<img src='https://drive.google.com/uc?id=1en9aTPe-4kBGil1k7cZzwaHm5RjosJDS' />\n",
        "<figcaption>\"Cloning\" of your voice.</figcaption></center>\n",
        "</figure>\n",
        "\n",
        "Voice recordings are displayed as spectrograms and the model learns how you pronounce certain words and how your voice sounds."
      ],
      "metadata": {
        "id": "6jO2SF4jSm9I"
      }
    },
    {
      "cell_type": "markdown",
      "source": [
        "<figure>\n",
        "<center>\n",
        "<img src='https://drive.google.com/uc?id=1do_cxR76vuZlygoW7N0RIJD1Q3EHnTEc' />\n",
        "<figcaption>Speaking in your voice.</figcaption></center>\n",
        "</figure>\n",
        "\n",
        "On the basis of your \"cloned voice\", the model guesses how the spectrogram would look, when you would speak the text yourself. This spectrogram is then converted back into an audio file."
      ],
      "metadata": {
        "id": "sCB1QK6ZS9Di"
      }
    },
    {
      "cell_type": "markdown",
      "source": [
        "[**Your turn!**](https://colab.research.google.com/drive/1nWFbDmSTKPUmF78CS0_mtwDF9pW6fKma)"
      ],
      "metadata": {
        "id": "_I3_Mj8O6R72"
      }
    }
  ]
}