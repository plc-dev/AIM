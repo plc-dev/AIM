{
 "cells": [
  {
   "attachments": {},
   "cell_type": "markdown",
   "metadata": {},
   "source": [
    "# Jupyer Notebook Intro"
   ]
  },
  {
   "attachments": {},
   "cell_type": "markdown",
   "metadata": {},
   "source": [
    "## Where am I?\n",
    "\n",
    "This website is a so called Jupyter Notebook. In this notebook small self-written programs can be executed and documented for others in an easily accessible and understandable way. Notebooks understand many programming languages, but this notebook only uses the Python programming language.\n",
    "\n",
    "In order to run the programs in a notebook, a computer must provide computing resources. These resources are provided by Google free of charge at the website - Colab. You can also simply use these resources yourself through Colab to write your own programs or try out those of others."
   ]
  },
  {
   "attachments": {},
   "cell_type": "markdown",
   "metadata": {},
   "source": [
    "## How do I use it?\n",
    "\n",
    "A notebook consists of several so-called cells, which can take two different forms:\n",
    "\n",
    "- Text cells\n",
    "- Code cells\n",
    "\n",
    "Text cells cannot be executed. They are only used to display text, such as the cell you are reading.\n",
    "\n",
    "Code cells, on the other hand, contain small programs that can be executed. You can recognize them by several things:\n",
    "\n",
    "The text they contain looks very incomprehensible,\n",
    "\n",
    "if the cell content is hidden, only the text \"Show code\" is displayed,\n",
    "\n",
    "at the beginning of the cell there is a small icon (playbutton) with a dark triangle in a small circle.\n",
    "\n",
    "To execute the program contained in a code cell, you should click on the playbutton. As soon as the icon stops spinning, the program is ready.\n",
    "\n",
    "Try it out in the cell below!"
   ]
  },
  {
   "cell_type": "code",
   "execution_count": null,
   "metadata": {
    "vscode": {
     "languageId": "plaintext"
    }
   },
   "outputs": [],
   "source": [
    "import time\n",
    "time.sleep(2)\n",
    "print(\"Hello World!\")"
   ]
  },
  {
   "attachments": {},
   "cell_type": "markdown",
   "metadata": {},
   "source": [
    "## What am I doing here?\n",
    "\n",
    "Today we are using these notebooks specifically to use artificial intelligence (AI) to automatically create media according to your instructions. The theme today is to create your own superhero, but you can let your imagination run wild and test the AI with different queries."
   ]
  }
 ],
 "metadata": {
  "language_info": {
   "name": "python"
  },
  "orig_nbformat": 4
 },
 "nbformat": 4,
 "nbformat_minor": 2
}
